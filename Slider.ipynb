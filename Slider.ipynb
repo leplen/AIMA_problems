{
 "cells": [
  {
   "cell_type": "markdown",
   "metadata": {},
   "source": [
    "# Slider Puzzle \n",
    "\n",
    "#### Solving sliding puzzles using search.\n",
    "\n",
    "<img src='slidingPuzzle.jpg'>"
   ]
  },
  {
   "cell_type": "markdown",
   "metadata": {},
   "source": [
    "The goal of this notebook is to walk through how to solve a sliding puzzle algorithmically. Before I can start to solve the puzzle, I need some way to represent it and interact with it. While the puzzle isn't mathematically much like a matrix, it visually resembles one so here's a matrix representation of a sliding puzzle."
   ]
  },
  {
   "cell_type": "code",
   "execution_count": 23,
   "metadata": {
    "collapsed": false
   },
   "outputs": [],
   "source": [
    "%matplotlib inline\n",
    "import numpy as np\n",
    "import random, time\n",
    "import matplotlib.pyplot as plt\n",
    "import seaborn as sns  # makes plots pretty"
   ]
  },
  {
   "cell_type": "code",
   "execution_count": 24,
   "metadata": {
    "collapsed": false
   },
   "outputs": [
    {
     "name": "stdout",
     "output_type": "stream",
     "text": [
      "[[1 2 3]\n",
      " [4 5 6]\n",
      " [7 8 9]]\n",
      "[[5 9 3]\n",
      " [8 7 2]\n",
      " [6 1 4]]\n"
     ]
    }
   ],
   "source": [
    "def makePuzzle(puzzleSize):\n",
    "    numbers=range(1, puzzleSize**2+1)\n",
    "    Bnums=np.array(numbers)\n",
    "    Tnums=np.array(numbers)\n",
    "    board=np.reshape(Bnums, (puzzleSize,puzzleSize))\n",
    "    np.random.shuffle(Tnums)\n",
    "    tiles=np.reshape(Tnums, (puzzleSize,puzzleSize))\n",
    "    return board, tiles\n",
    "    \n",
    "board,tiles=makePuzzle(3)\n",
    "print(board)\n",
    "print(tiles)\n"
   ]
  },
  {
   "cell_type": "markdown",
   "metadata": {},
   "source": [
    "I start off creating an ordered board and a random tile alignment. The only wrinkle is that `np.random.shuffle` works in place, which necessitates having `Tnums` and `Bnums` as separate variables. "
   ]
  },
  {
   "cell_type": "markdown",
   "metadata": {},
   "source": [
    "I'm going to treat the 1 as the blank space, since it exists in all size puzzles. The goal is to move the 1 around until the numbers on the tiles line up with the identical spaces on the board. We'll want to define a function that takes the current tiles and performs a move."
   ]
  },
  {
   "cell_type": "code",
   "execution_count": 25,
   "metadata": {
    "collapsed": true
   },
   "outputs": [],
   "source": [
    "def moveTile(tiles,Xaxis,moveUp): #takes tiles array and two Booleans\n",
    "    loc=np.where(tiles==1)\n",
    "    for index in loc:\n",
    "        x=loc[0].item()\n",
    "        y=loc[1].item()\n",
    "    #save values before update\n",
    "        xP=x\n",
    "        yP=y\n",
    "#Update in the right direction unless it takes you off the board\n",
    "    if Xaxis and moveUp and x<tiles.shape[0]-1:\n",
    "        x=x+1\n",
    "    elif Xaxis and not moveUp and x>0:\n",
    "        x=x-1\n",
    "    elif not Xaxis and moveUp and y<tiles.shape[0]-1:\n",
    "        y=y+1\n",
    "    elif not Xaxis and not moveUp and y>0:\n",
    "        y=y-1\n",
    "#switch 1 with Previous value\n",
    "    tiles[xP][yP]=tiles[x][y]\n",
    "    tiles[x][y]=1\n",
    "\n",
    "    return tiles"
   ]
  },
  {
   "cell_type": "markdown",
   "metadata": {},
   "source": [
    "So I have a board defined and a mechanism for moving tiles. Now I just need an algorithm for how to move the tiles. The naive approach is to do it completely randomly."
   ]
  },
  {
   "cell_type": "markdown",
   "metadata": {},
   "source": [
    "## Random Search"
   ]
  },
  {
   "cell_type": "code",
   "execution_count": 26,
   "metadata": {
    "collapsed": false
   },
   "outputs": [
    {
     "name": "stdout",
     "output_type": "stream",
     "text": [
      "Starting configuration\n",
      " [[1 4]\n",
      " [2 3]]\n",
      "Match\n",
      " [[1 2]\n",
      " [3 4]] \n",
      " [[1 2]\n",
      " [3 4]] \n",
      "\n",
      "Count 40\n",
      "Runtime 0.0025823116302490234\n",
      "Starting configuration\n",
      " [[8 5 9]\n",
      " [2 7 3]\n",
      " [6 1 4]]\n",
      "Count 1001\n",
      "Runtime 0.021406888961791992\n"
     ]
    }
   ],
   "source": [
    "for size in range(2,4):\n",
    "    runstart=time.time()\n",
    "    board, tiles=makePuzzle(size)\n",
    "    print('Starting configuration\\n', tiles)\n",
    "    steps=0; match=True\n",
    "    while not np.array_equal(tiles,board):\n",
    "        steps+=1\n",
    "        ##Random update\n",
    "        Xaxis=bool(random.getrandbits(1))\n",
    "        moveUp=bool(random.getrandbits(1))\n",
    "        tiles=moveTile(tiles,Xaxis,moveUp)\n",
    "        if steps>1000:\n",
    "            match=False\n",
    "            break\n",
    "\n",
    "    if match:\n",
    "        print('Match\\n',tiles,'\\n',board,'\\n')\n",
    "    print('Count', steps)\n",
    "    print('Runtime', (time.time()-runstart) )"
   ]
  },
  {
   "cell_type": "markdown",
   "metadata": {},
   "source": [
    "Without the break statment, this cell never finishes. To see why look at the distribution of counts for the 2x2 system."
   ]
  },
  {
   "cell_type": "markdown",
   "metadata": {},
   "source": [
    "### The 2x2 Puzzle"
   ]
  },
  {
   "cell_type": "code",
   "execution_count": 27,
   "metadata": {
    "collapsed": false
   },
   "outputs": [
    {
     "data": {
      "image/png": "[encoded data removed]",
      "text/plain": [
       "<matplotlib.figure.Figure at 0x7f5cc14280b8>"
      ]
     },
     "metadata": {},
     "output_type": "display_data"
    }
   ],
   "source": [
    "data=[]\n",
    "for i in range(100):\n",
    "    board, tiles=makePuzzle(2)\n",
    "    steps=0\n",
    "    while not np.array_equal(tiles,board):\n",
    "        steps+=1\n",
    "        ##Random update\n",
    "        Xaxis=bool(random.getrandbits(1))\n",
    "        moveUp=bool(random.getrandbits(1))\n",
    "        tiles=moveTile(tiles,Xaxis,moveUp)\n",
    "        if steps>400:\n",
    "            break\n",
    "    data.append(steps)\n",
    "\n",
    "plt.hist(data, bins=50)\n",
    "plt.title(\"Number of random steps to solution\")\n",
    "plt.xlabel(\"Step number\")\n",
    "plt.ylabel(\"Frequency\")\n",
    "plt.show()"
   ]
  },
  {
   "cell_type": "markdown",
   "metadata": {},
   "source": [
    "From the graph it's obvioust that the 2x2 puzzle is not solvable from approximately half of the possible starting configurations. If we throw out the cases where no solution was found we're left with"
   ]
  },
  {
   "cell_type": "code",
   "execution_count": 28,
   "metadata": {
    "collapsed": false
   },
   "outputs": [
    {
     "name": "stdout",
     "output_type": "stream",
     "text": [
      "Median is 24.0\n"
     ]
    },
    {
     "data": {
      "image/png": "[encoded data removed]",
      "text/plain": [
       "<matplotlib.figure.Figure at 0x7f5cd16f0828>"
      ]
     },
     "metadata": {},
     "output_type": "display_data"
    }
   ],
   "source": [
    "Mdata=[]\n",
    "for i in range(100):\n",
    "    board, tiles=makePuzzle(2)\n",
    "    steps=0; match=True\n",
    "    while not np.array_equal(tiles,board):\n",
    "        steps+=1\n",
    "        ##Random update\n",
    "        Xaxis=bool(random.getrandbits(1))\n",
    "        moveUp=bool(random.getrandbits(1))\n",
    "        tiles=moveTile(tiles,Xaxis,moveUp)\n",
    "        if steps>400:\n",
    "            match=False\n",
    "            break\n",
    "    if match:\n",
    "        Mdata.append(steps)\n",
    "print('Median is', np.median(Mdata))\n",
    "plt.hist(Mdata, bins=50)\n",
    "plt.title(\"Number of random steps to solution\")\n",
    "plt.xlabel(\"Step number\")\n",
    "plt.ylabel(\"Frequency\")\n",
    "plt.show()"
   ]
  },
  {
   "cell_type": "markdown",
   "metadata": {},
   "source": [
    "Under our naive construction there are 4!=24 possible starting states. Any efficient solution to the puzzle should never occupy a state more than once, since removing loops is always more efficient. Since apparently half of those possible states are inaccessible, the maximum number of steps should be a dozen or less. Well under the median value for our naive algorithm."
   ]
  },
  {
   "cell_type": "markdown",
   "metadata": {},
   "source": [
    "## Breadth First Search"
   ]
  },
  {
   "cell_type": "markdown",
   "metadata": {},
   "source": [
    "I can dramatically decrease my search length if I can avoid looking in the same places over and over again. Since I'm looking to have no repetitions, I can represent my search using an undirected acyclic graph, more commonly known as a tree. My tree has branches defined by my possible movements, up/down/left/right and it's height is the number of steps needed to reach the goal state.\n",
    "\n",
    "The tree can't have more nodes than there are unique states in the puzzle, which implies a limit for the tree's depth."
   ]
  },
  {
   "cell_type": "code",
   "execution_count": null,
   "metadata": {
    "collapsed": true
   },
   "outputs": [],
   "source": []
  }
 ],
 "metadata": {
  "kernelspec": {
   "display_name": "Python 3",
   "language": "python",
   "name": "python3"
  },
  "language_info": {
   "codemirror_mode": {
    "name": "ipython",
    "version": 3
   },
   "file_extension": ".py",
   "mimetype": "text/x-python",
   "name": "python",
   "nbconvert_exporter": "python",
   "pygments_lexer": "ipython3",
   "version": "3.5.1"
  }
 },
 "nbformat": 4,
 "nbformat_minor": 0
}
